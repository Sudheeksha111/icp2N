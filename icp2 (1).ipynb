{
 "cells": [
  {
   "cell_type": "code",
   "execution_count": 32,
   "id": "de65d33f-61a3-4b8a-b8cf-b14bb015e116",
   "metadata": {},
   "outputs": [
    {
     "name": "stdin",
     "output_type": "stream",
     "text": [
      "enter first name: sudheekshsa\n",
      "enter last name: vuppu\n"
     ]
    },
    {
     "name": "stdout",
     "output_type": "stream",
     "text": [
      "User full name: sudheekshsa vuppu\n",
      "Alternate String:  sdekhavpu\n"
     ]
    }
   ],
   "source": [
    "#question 1\n",
    "first_name=input(\"enter first name:\")\n",
    "last_name=input(\"enter last name:\")\n",
    "\n",
    "def full_name(first_name,last_name):\n",
    "  return first_name+\" \"+last_name\n",
    "\n",
    "def string_alternative(full_name):\n",
    "  new_str=\" \"\n",
    "  for index in range(0,len(full_name),2):\n",
    "    new_str+=full_name[index]\n",
    "  return new_str\n",
    "print(\"User full name:\",full_name(first_name,last_name))\n",
    "print(\"Alternate String:\",string_alternative(full_name(first_name,last_name)))"
   ]
  },
  {
   "cell_type": "code",
   "execution_count": 28,
   "id": "9b343b54-a6e8-4e61-aade-ee857f196d32",
   "metadata": {},
   "outputs": [],
   "source": [
    "#question 2\n",
    "Input_file = open(\"Input.txt\", \"r\")\n",
    "output1_file = open(\"output1.txt\", \"w\")\n",
    "\n",
    "content = {}\n",
    "for line in Input_file:\n",
    "    output1_file.write(line)\n",
    "    new_l = line.split()\n",
    "    for x in new_l: \n",
    "        if(content.get(x)==None):\n",
    "            content[x]=1\n",
    "        else:\n",
    "            content[x] = content[x] + 1\n",
    "\n",
    "output1_file.write( \"Word_count : \")\n",
    "for key, value in content.items():\n",
    "        output1_file.write('%s:%s\\n' % (key, value))\n",
    "Input_file.close()\n",
    "output1_file.close()"
   ]
  },
  {
   "cell_type": "code",
   "execution_count": 37,
   "id": "acdbdeab-39e0-499f-b058-d94c37a01945",
   "metadata": {},
   "outputs": [
    {
     "name": "stdout",
     "output_type": "stream",
     "text": [
      "Heights in inches: [150, 155, 145, 148]\n",
      "Heights in centimeters (nested loop): [381.0, 393.7, 368.3, 375.92]\n"
     ]
    }
   ],
   "source": [
    "##3 question using nestedloop\n",
    "def inches_to_cm(height_inches):\n",
    "    return height_inches * 2.54\n",
    "\n",
    "heights_inches = [150, 155, 145, 148]\n",
    "heights_cm = []\n",
    "for height in heights_inches:\n",
    "    cm_height = inches_to_cm(height)\n",
    "    heights_cm.append(cm_height)\n",
    "\n",
    "print(\"Heights in inches:\", heights_inches)\n",
    "\n",
    "print(\"Heights in centimeters:\", heights_cm)"
   ]
  },
  {
   "cell_type": "code",
   "execution_count": 38,
   "id": "c853a7a5-69b4-4389-81f1-8114e9d616e9",
   "metadata": {},
   "outputs": [
    {
     "name": "stdout",
     "output_type": "stream",
     "text": [
      "Heights in inches: [150, 155, 145, 148]\n",
      "Heights in centimeters (list comprehension): [381.0, 393.7, 368.3, 375.92]\n"
     ]
    }
   ],
   "source": [
    "##b using list\n",
    "def inches_to_cm(height_inches):\n",
    "    return height_inches * 2.54\n",
    "\n",
    "heights_inches = [150, 155, 145, 148]\n",
    "\n",
    "heights_cm = [inches_to_cm(height) for height in heights_inches]\n",
    "\n",
    "print(\"Heights in inches:\", heights_inches)\n",
    "\n",
    "print(\"Heights in centimeters (list comprehension):\", heights_cm)\n"
   ]
  },
  {
   "cell_type": "code",
   "execution_count": null,
   "id": "51740e93-6393-41ad-bbde-38e4f715a45b",
   "metadata": {},
   "outputs": [],
   "source": []
  }
 ],
 "metadata": {
  "kernelspec": {
   "display_name": "Python 3 (ipykernel)",
   "language": "python",
   "name": "python3"
  },
  "language_info": {
   "codemirror_mode": {
    "name": "ipython",
    "version": 3
   },
   "file_extension": ".py",
   "mimetype": "text/x-python",
   "name": "python",
   "nbconvert_exporter": "python",
   "pygments_lexer": "ipython3",
   "version": "3.11.7"
  }
 },
 "nbformat": 4,
 "nbformat_minor": 5
}
